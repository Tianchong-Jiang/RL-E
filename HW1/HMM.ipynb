{
 "cells": [
  {
   "cell_type": "code",
   "execution_count": 17,
   "id": "39706079",
   "metadata": {},
   "outputs": [],
   "source": [
    "import numpy as np"
   ]
  },
  {
   "cell_type": "code",
   "execution_count": 18,
   "id": "70bc2f1c",
   "metadata": {},
   "outputs": [],
   "source": [
    "class HHM():\n",
    "    def __init__(self, obs):\n",
    "        # number of states\n",
    "        self.num_states = 3\n",
    "\n",
    "        # number of observations\n",
    "        self.num_obs = 3\n",
    "\n",
    "        # probability of initial states\n",
    "        self.initial_prob = np.array([1/3, 1/3, 1/3])\n",
    "\n",
    "        # array of state transition probabilities\n",
    "        # e.g. 0.3 at row 1 col 2 means than the probability of \n",
    "        # transitioning from state 2 to state 3 is 0.3\n",
    "        self.state_trans = np.array([[0.2, 0.3, 0.5],\n",
    "                                     [0.2, 0.7, 0.1],\n",
    "                                     [0.4, 0.2, 0.4]])\n",
    "\n",
    "        # array of observation probabilities\n",
    "        # e.g. 0.1 at row 1 col 2 means than the probability of \n",
    "        # observing state 1 when the actual state is 2 is 0.1\n",
    "        # i.e. self.obs_probs[i, j] = p (z_i , x_j)\n",
    "        self.obs_probs = np.array([[0.6, 0.1, 0.2],\n",
    "                                   [0.1, 0.7, 0.3],\n",
    "                                   [0.3, 0.2, 0.5]])\n",
    "\n",
    "        # the actual observation sequence\n",
    "        self.obs = obs\n",
    "\n",
    "        # array of alphas\n",
    "        self.alphas = np.zeros([self.num_obs, self.num_states])\n",
    "\n",
    "        # array of betas\n",
    "        self.betas = np.zeros([self.num_obs, self.num_states])\n",
    "\n",
    "        # array of deltas\n",
    "        self.deltas = np.zeros([self.num_obs, self.num_states])\n",
    "\n",
    "        # array of pres for Viterbi algorithm\n",
    "        self.pres = np.zeros([self.num_obs, self.num_states])\n",
    "\n",
    "    #### FILTERING ####\n",
    "\n",
    "    # get alphas of time t, need to be called in order\n",
    "    def get_alpha(self, t):\n",
    "        if t == 0:\n",
    "            for i in range(self.num_states):\n",
    "                self.alphas[0, i] = self.obs_probs[self.obs[0], i] * self.initial_prob[i]\n",
    "        elif t < self.num_obs:\n",
    "            for i in range(self.num_states):\n",
    "                self.alphas[t, i] = self.obs_probs[self.obs[t], i]\\\n",
    "                    * np.dot(self.state_trans[:, t-1], self.alphas[t-1])\n",
    "        else:\n",
    "            print(f\"Error: there are only {self.num_obs} observations\")\n",
    "\n",
    "    # get all alphas\n",
    "    def get_alphas(self):\n",
    "        for t in range(self.num_obs):\n",
    "            self.get_alpha(t)\n",
    "\n",
    "    # get results of filtering\n",
    "    def filter(self):\n",
    "        self.get_alphas()\n",
    "        filter_res = np.zeros([self.num_obs, self.num_states])\n",
    "        for t in range(self.num_obs):\n",
    "            for state in range(self.num_states):\n",
    "                filter_res[t, state] = self.alphas[t, state] / np.sum(self.alphas[t])\n",
    "        return filter_res\n",
    "        \n",
    "    # get MAP estimate with filtering\n",
    "    def MAP_filter(self):\n",
    "        filter_res = self.filter()\n",
    "        res = np.argmax(filter_res, axis=-1) + 1\n",
    "        return res\n",
    "    \n",
    "    #### SMOOTHING ####\n",
    "    \n",
    "    # get beta of time t, need to be called in backward order\n",
    "    def get_beta(self, t):\n",
    "        if t == self.num_obs - 1:\n",
    "            for i in range(self.num_states):\n",
    "                self.betas[t, i] = 1.0 #self.obs_probs[self.obs[t], i] * 1.0\n",
    "        elif t >= 0:\n",
    "            for i in range(self.num_states):\n",
    "                for x in range(self.num_states):\n",
    "                    self.betas[t, i] += self.obs_probs[self.obs[t+1], x]\\\n",
    "                    * self.state_trans[x, i] * self.betas[t+1, x]\n",
    "        else:\n",
    "            print(\"Error: observation index cannot be negative\")\n",
    "\n",
    "    # get all betas\n",
    "    def get_betas(self):\n",
    "        for t in range(self.num_obs - 1, -1, -1):\n",
    "            self.get_beta(t)\n",
    "\n",
    "    # get results of smoothing\n",
    "    def smoothing(self):\n",
    "        self.get_alphas()\n",
    "        self.get_betas()\n",
    "        smoothing_res = np.zeros([self.num_obs, self.num_states])\n",
    "        for t in range(self.num_obs):\n",
    "            for state in range(self.num_states):\n",
    "                smoothing_res[t, state] = self.alphas[t, state] * self.betas[t, state] / np.dot(self.alphas[t], self.betas[t])\n",
    "        return smoothing_res\n",
    "        \n",
    "    # get MAP estimate with smoothing\n",
    "    def MAP_smoothing(self):\n",
    "        smoothing_res = self.smoothing()\n",
    "        res = np.argmax(smoothing_res, axis=-1) + 1\n",
    "        return res\n",
    "\n",
    "    #### VITERBI ####\n",
    "\n",
    "    def get_delta_and_pre(self, t):\n",
    "        if t == 0:\n",
    "            for i in range(self.num_states):\n",
    "                self.deltas[0, i] = self.obs_probs[self.obs[0], i] * self.initial_prob[i]\n",
    "                self.pres[0, i] = None\n",
    "        elif t < self.num_obs:\n",
    "            for i in range(self.num_states):\n",
    "                self.deltas[t, i] = self.obs_probs[self.obs[t], i]\\\n",
    "                    * np.max(self.state_trans[:, i] * self.deltas[t-1])\n",
    "                self.pres[t, i] = np.argmax(self.state_trans[:, i] * self.deltas[t-1])\n",
    "        else:\n",
    "            print(f\"Error: there are only {self.num_obs} observations\")\n",
    "\n",
    "    # get all deltas and pres\n",
    "    def get_deltas_and_pres(self):\n",
    "        for t in range(self.num_obs):\n",
    "            self.get_delta_and_pre(t)\n",
    "\n",
    "    # get results of Viterbi algorithm\n",
    "    def Viterbi(self):\n",
    "        res = np.zeros(self.num_obs)\n",
    "        self.get_deltas_and_pres()\n",
    "\n",
    "        # get most likely terminal state\n",
    "        res[-1] = np.argmax(self.deltas[-1])\n",
    "\n",
    "        # backtracking\n",
    "        for t in range(self.num_obs - 1 - 1, -1, -1):\n",
    "            res[t] = self.pres[t + 1, int(res[t + 1])]\n",
    "        return res + 1\n"
   ]
  },
  {
   "cell_type": "code",
   "execution_count": 22,
   "id": "3c7286cd",
   "metadata": {},
   "outputs": [
    {
     "name": "stdout",
     "output_type": "stream",
     "text": [
      "[[0.09090909 0.63636364 0.27272727]\n",
      " [0.3        0.2        0.5       ]\n",
      " [0.66666667 0.11111111 0.22222222]]\n",
      "[2 3 1]\n"
     ]
    }
   ],
   "source": [
    "hhm = HHM(np.array([2, 3, 1]) - 1)\n",
    "print(hhm.filter())\n",
    "print(hhm.MAP_filter())"
   ]
  },
  {
   "cell_type": "code",
   "execution_count": 24,
   "id": "b9160ce8",
   "metadata": {},
   "outputs": [
    {
     "name": "stdout",
     "output_type": "stream",
     "text": [
      "[[0.0894691  0.60557006 0.30496084]\n",
      " [0.20689655 0.18181818 0.61128527]\n",
      " [0.66666667 0.11111111 0.22222222]]\n",
      "[2 3 1]\n"
     ]
    }
   ],
   "source": [
    "print(hhm.smoothing())\n",
    "print(hhm.MAP_smoothing())"
   ]
  },
  {
   "cell_type": "code",
   "execution_count": 25,
   "id": "0d1c0977",
   "metadata": {},
   "outputs": [
    {
     "name": "stdout",
     "output_type": "stream",
     "text": [
      "[3. 3. 1.]\n"
     ]
    }
   ],
   "source": [
    "print(hhm.Viterbi())"
   ]
  }
 ],
 "metadata": {
  "kernelspec": {
   "display_name": "Python 3",
   "language": "python",
   "name": "python3"
  },
  "language_info": {
   "codemirror_mode": {
    "name": "ipython",
    "version": 3
   },
   "file_extension": ".py",
   "mimetype": "text/x-python",
   "name": "python",
   "nbconvert_exporter": "python",
   "pygments_lexer": "ipython3",
   "version": "3.9.5"
  },
  "vscode": {
   "interpreter": {
    "hash": "916dbcbb3f70747c44a77c7bcd40155683ae19c65e1c03b4aa3499c5328201f1"
   }
  }
 },
 "nbformat": 4,
 "nbformat_minor": 5
}
